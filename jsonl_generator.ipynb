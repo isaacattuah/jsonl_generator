{
  "nbformat": 4,
  "nbformat_minor": 0,
  "metadata": {
    "colab": {
      "provenance": []
    },
    "kernelspec": {
      "name": "python3",
      "display_name": "Python 3"
    },
    "language_info": {
      "name": "python"
    }
  },
  "cells": [
    {
      "cell_type": "markdown",
      "source": [
        "# JSONL File Maker"
      ],
      "metadata": {
        "id": "JHOtOqpRwJbL"
      }
    },
    {
      "cell_type": "markdown",
      "source": [
        "JSONL Examples: https://pantheon.corp.google.com/storage/browser/cloud-samples-data/ai-platform/generative_ai;tab=objects?prefix=&forceOnObjectsSortingFiltering=false"
      ],
      "metadata": {
        "id": "hy53n1d9wSzt"
      }
    },
    {
      "cell_type": "markdown",
      "source": [
        "# Authenticate"
      ],
      "metadata": {
        "id": "WXnnm88V767K"
      }
    },
    {
      "cell_type": "code",
      "source": [
        "from google.colab import auth\n",
        "auth.authenticate_user()\n"
      ],
      "metadata": {
        "id": "iQLc8v5O8B4j"
      },
      "execution_count": 1,
      "outputs": []
    },
    {
      "cell_type": "code",
      "source": [
        "PROJECT_ID = 'css-genai-capstone'"
      ],
      "metadata": {
        "id": "7Z8lYrsKDPHW"
      },
      "execution_count": 2,
      "outputs": []
    },
    {
      "cell_type": "markdown",
      "source": [
        "# Install Dependencies"
      ],
      "metadata": {
        "id": "CB0uXzT_XFEV"
      }
    },
    {
      "cell_type": "code",
      "execution_count": 3,
      "metadata": {
        "colab": {
          "base_uri": "https://localhost:8080/"
        },
        "id": "1CTRTKyicPe1",
        "outputId": "5c35f592-233d-4705-b475-e127a9535d40"
      },
      "outputs": [
        {
          "output_type": "stream",
          "name": "stdout",
          "text": [
            "Requirement already satisfied: google-cloud-aiplatform in /usr/local/lib/python3.10/dist-packages (1.52.0)\n",
            "Requirement already satisfied: google-api-core[grpc]!=2.0.*,!=2.1.*,!=2.2.*,!=2.3.*,!=2.4.*,!=2.5.*,!=2.6.*,!=2.7.*,<3.0.0dev,>=1.34.1 in /usr/local/lib/python3.10/dist-packages (from google-cloud-aiplatform) (2.11.1)\n",
            "Requirement already satisfied: google-auth<3.0.0dev,>=2.14.1 in /usr/local/lib/python3.10/dist-packages (from google-cloud-aiplatform) (2.27.0)\n",
            "Requirement already satisfied: proto-plus<2.0.0dev,>=1.22.0 in /usr/local/lib/python3.10/dist-packages (from google-cloud-aiplatform) (1.23.0)\n",
            "Requirement already satisfied: protobuf!=3.20.0,!=3.20.1,!=4.21.0,!=4.21.1,!=4.21.2,!=4.21.3,!=4.21.4,!=4.21.5,<5.0.0dev,>=3.19.5 in /usr/local/lib/python3.10/dist-packages (from google-cloud-aiplatform) (3.20.3)\n",
            "Requirement already satisfied: packaging>=14.3 in /usr/local/lib/python3.10/dist-packages (from google-cloud-aiplatform) (24.0)\n",
            "Requirement already satisfied: google-cloud-storage<3.0.0dev,>=1.32.0 in /usr/local/lib/python3.10/dist-packages (from google-cloud-aiplatform) (2.8.0)\n",
            "Requirement already satisfied: google-cloud-bigquery!=3.20.0,<4.0.0dev,>=1.15.0 in /usr/local/lib/python3.10/dist-packages (from google-cloud-aiplatform) (3.21.0)\n",
            "Requirement already satisfied: google-cloud-resource-manager<3.0.0dev,>=1.3.3 in /usr/local/lib/python3.10/dist-packages (from google-cloud-aiplatform) (1.12.3)\n",
            "Requirement already satisfied: shapely<3.0.0dev in /usr/local/lib/python3.10/dist-packages (from google-cloud-aiplatform) (2.0.4)\n",
            "Requirement already satisfied: pydantic<3 in /usr/local/lib/python3.10/dist-packages (from google-cloud-aiplatform) (2.7.1)\n",
            "Requirement already satisfied: docstring-parser<1 in /usr/local/lib/python3.10/dist-packages (from google-cloud-aiplatform) (0.16)\n",
            "Requirement already satisfied: googleapis-common-protos<2.0.dev0,>=1.56.2 in /usr/local/lib/python3.10/dist-packages (from google-api-core[grpc]!=2.0.*,!=2.1.*,!=2.2.*,!=2.3.*,!=2.4.*,!=2.5.*,!=2.6.*,!=2.7.*,<3.0.0dev,>=1.34.1->google-cloud-aiplatform) (1.63.0)\n",
            "Requirement already satisfied: requests<3.0.0.dev0,>=2.18.0 in /usr/local/lib/python3.10/dist-packages (from google-api-core[grpc]!=2.0.*,!=2.1.*,!=2.2.*,!=2.3.*,!=2.4.*,!=2.5.*,!=2.6.*,!=2.7.*,<3.0.0dev,>=1.34.1->google-cloud-aiplatform) (2.31.0)\n",
            "Requirement already satisfied: grpcio<2.0dev,>=1.33.2 in /usr/local/lib/python3.10/dist-packages (from google-api-core[grpc]!=2.0.*,!=2.1.*,!=2.2.*,!=2.3.*,!=2.4.*,!=2.5.*,!=2.6.*,!=2.7.*,<3.0.0dev,>=1.34.1->google-cloud-aiplatform) (1.64.0)\n",
            "Requirement already satisfied: grpcio-status<2.0.dev0,>=1.33.2 in /usr/local/lib/python3.10/dist-packages (from google-api-core[grpc]!=2.0.*,!=2.1.*,!=2.2.*,!=2.3.*,!=2.4.*,!=2.5.*,!=2.6.*,!=2.7.*,<3.0.0dev,>=1.34.1->google-cloud-aiplatform) (1.48.2)\n",
            "Requirement already satisfied: cachetools<6.0,>=2.0.0 in /usr/local/lib/python3.10/dist-packages (from google-auth<3.0.0dev,>=2.14.1->google-cloud-aiplatform) (5.3.3)\n",
            "Requirement already satisfied: pyasn1-modules>=0.2.1 in /usr/local/lib/python3.10/dist-packages (from google-auth<3.0.0dev,>=2.14.1->google-cloud-aiplatform) (0.4.0)\n",
            "Requirement already satisfied: rsa<5,>=3.1.4 in /usr/local/lib/python3.10/dist-packages (from google-auth<3.0.0dev,>=2.14.1->google-cloud-aiplatform) (4.9)\n",
            "Requirement already satisfied: google-cloud-core<3.0.0dev,>=1.6.0 in /usr/local/lib/python3.10/dist-packages (from google-cloud-bigquery!=3.20.0,<4.0.0dev,>=1.15.0->google-cloud-aiplatform) (2.3.3)\n",
            "Requirement already satisfied: google-resumable-media<3.0dev,>=0.6.0 in /usr/local/lib/python3.10/dist-packages (from google-cloud-bigquery!=3.20.0,<4.0.0dev,>=1.15.0->google-cloud-aiplatform) (2.7.0)\n",
            "Requirement already satisfied: python-dateutil<3.0dev,>=2.7.2 in /usr/local/lib/python3.10/dist-packages (from google-cloud-bigquery!=3.20.0,<4.0.0dev,>=1.15.0->google-cloud-aiplatform) (2.8.2)\n",
            "Requirement already satisfied: grpc-google-iam-v1<1.0.0dev,>=0.12.4 in /usr/local/lib/python3.10/dist-packages (from google-cloud-resource-manager<3.0.0dev,>=1.3.3->google-cloud-aiplatform) (0.13.0)\n",
            "Requirement already satisfied: annotated-types>=0.4.0 in /usr/local/lib/python3.10/dist-packages (from pydantic<3->google-cloud-aiplatform) (0.7.0)\n",
            "Requirement already satisfied: pydantic-core==2.18.2 in /usr/local/lib/python3.10/dist-packages (from pydantic<3->google-cloud-aiplatform) (2.18.2)\n",
            "Requirement already satisfied: typing-extensions>=4.6.1 in /usr/local/lib/python3.10/dist-packages (from pydantic<3->google-cloud-aiplatform) (4.11.0)\n",
            "Requirement already satisfied: numpy<3,>=1.14 in /usr/local/lib/python3.10/dist-packages (from shapely<3.0.0dev->google-cloud-aiplatform) (1.25.2)\n",
            "Requirement already satisfied: google-crc32c<2.0dev,>=1.0 in /usr/local/lib/python3.10/dist-packages (from google-resumable-media<3.0dev,>=0.6.0->google-cloud-bigquery!=3.20.0,<4.0.0dev,>=1.15.0->google-cloud-aiplatform) (1.5.0)\n",
            "Requirement already satisfied: pyasn1<0.7.0,>=0.4.6 in /usr/local/lib/python3.10/dist-packages (from pyasn1-modules>=0.2.1->google-auth<3.0.0dev,>=2.14.1->google-cloud-aiplatform) (0.6.0)\n",
            "Requirement already satisfied: six>=1.5 in /usr/local/lib/python3.10/dist-packages (from python-dateutil<3.0dev,>=2.7.2->google-cloud-bigquery!=3.20.0,<4.0.0dev,>=1.15.0->google-cloud-aiplatform) (1.16.0)\n",
            "Requirement already satisfied: charset-normalizer<4,>=2 in /usr/local/lib/python3.10/dist-packages (from requests<3.0.0.dev0,>=2.18.0->google-api-core[grpc]!=2.0.*,!=2.1.*,!=2.2.*,!=2.3.*,!=2.4.*,!=2.5.*,!=2.6.*,!=2.7.*,<3.0.0dev,>=1.34.1->google-cloud-aiplatform) (3.3.2)\n",
            "Requirement already satisfied: idna<4,>=2.5 in /usr/local/lib/python3.10/dist-packages (from requests<3.0.0.dev0,>=2.18.0->google-api-core[grpc]!=2.0.*,!=2.1.*,!=2.2.*,!=2.3.*,!=2.4.*,!=2.5.*,!=2.6.*,!=2.7.*,<3.0.0dev,>=1.34.1->google-cloud-aiplatform) (3.7)\n",
            "Requirement already satisfied: urllib3<3,>=1.21.1 in /usr/local/lib/python3.10/dist-packages (from requests<3.0.0.dev0,>=2.18.0->google-api-core[grpc]!=2.0.*,!=2.1.*,!=2.2.*,!=2.3.*,!=2.4.*,!=2.5.*,!=2.6.*,!=2.7.*,<3.0.0dev,>=1.34.1->google-cloud-aiplatform) (2.0.7)\n",
            "Requirement already satisfied: certifi>=2017.4.17 in /usr/local/lib/python3.10/dist-packages (from requests<3.0.0.dev0,>=2.18.0->google-api-core[grpc]!=2.0.*,!=2.1.*,!=2.2.*,!=2.3.*,!=2.4.*,!=2.5.*,!=2.6.*,!=2.7.*,<3.0.0dev,>=1.34.1->google-cloud-aiplatform) (2024.2.2)\n"
          ]
        }
      ],
      "source": [
        "!pip install --upgrade google-cloud-aiplatform # Vertex AI module"
      ]
    },
    {
      "cell_type": "markdown",
      "source": [
        "# Libraries"
      ],
      "metadata": {
        "id": "N9sTKJ0GtLMK"
      }
    },
    {
      "cell_type": "code",
      "source": [
        "import vertexai\n",
        "import json\n",
        "from vertexai.preview.generative_models import GenerativeModel\n",
        "from vertexai.preview.language_models import TextGenerationModel\n",
        "vertexai.init(project=PROJECT_ID)\n",
        "model = GenerativeModel(\"gemini-1.5-flash-001\")"
      ],
      "metadata": {
        "id": "O6Vgr-HgPrVE"
      },
      "execution_count": 4,
      "outputs": []
    },
    {
      "cell_type": "markdown",
      "source": [
        "# Core Functions"
      ],
      "metadata": {
        "id": "J3APpr6eEkxI"
      }
    },
    {
      "cell_type": "code",
      "source": [
        "\n",
        "# Generate JSON file\n",
        "def generate_jsonl_data(data, output_file):\n",
        "    \"\"\"\n",
        "    Generate a JSONL file from a list of dictionaries.\n",
        "\n",
        "    Parameters:\n",
        "    - data: List of dictionaries, where each dictionary represents a JSON object.\n",
        "    - output_file: Path to the output JSONL file.\n",
        "    \"\"\"\n",
        "    with open(output_file, 'w') as file:\n",
        "        for entry in data:\n",
        "            json_line = json.dumps(entry)\n",
        "            file.write(json_line + '\\n')\n",
        "\n",
        "# Example function to call the model's generate_content method\n",
        "def call_model_generate_content(prompt):\n",
        "    \"\"\"\n",
        "    Calls the model's generate_content method and returns the response.\n",
        "\n",
        "    Parameters:\n",
        "    - model: The model object with a generate_content method.\n",
        "    - prompt: The prompt to send to the model.\n",
        "\n",
        "    Returns:\n",
        "    - The model's response.\n",
        "    \"\"\"\n",
        "    response = model.generate_content(prompt)\n",
        "    # print(response.text)\n",
        "    return response.text\n",
        "\n",
        "# Function to create prompts by calling the model\n",
        "def create_prompts(number_of_examples, examples):\n",
        "    \"\"\"\n",
        "    Creates a list of example prompts by calling the model to generate prompts.\n",
        "\n",
        "    Parameters:\n",
        "    - model: The model object with a generate_content method.\n",
        "    - number_of_examples: The number of example prompts to generate.\n",
        "\n",
        "    Returns:\n",
        "    - List of example prompts.\n",
        "    \"\"\"\n",
        "    prompts = []\n",
        "    for _ in range(number_of_examples):\n",
        "        prompt = call_model_generate_content(f\"Generate a random individual prompt similar to one of these {examples}. Vary the persona in each call as much as possible. No titles needed\") # Prompt for generating prompts\n",
        "        prompts.append(prompt)\n",
        "    print(f\"Generated {len(prompts)} prompts.\")\n",
        "    return prompts\n",
        "\n",
        "# Function to generate examples based on model version and prompts\n",
        "def generate_responses(model_version, prompts):\n",
        "    examples = []\n",
        "\n",
        "    if model_version == \"Gemini\":\n",
        "        def create_example(prompt, response):\n",
        "            return {\n",
        "                \"messages\": [\n",
        "                    {\"role\": \"system\", \"content\": \"\"}, # System Prompt\n",
        "                    {\"role\": \"user\", \"content\": prompt},\n",
        "                    {\"role\": \"model\", \"content\": response}\n",
        "                ]\n",
        "            }\n",
        "    elif model_version == \"PaLM\":\n",
        "        def create_example(prompt, response):\n",
        "            return {\n",
        "                \"input_text\": prompt,\n",
        "                \"output_text\": response\n",
        "            }\n",
        "\n",
        "    for prompt in prompts:\n",
        "        response = call_model_generate_content(prompt)\n",
        "        example = create_example(prompt, response)\n",
        "        examples.append(example)\n",
        "\n",
        "    print(f\"Generated {len(examples)} examples.\")\n",
        "    return examples\n",
        "\n",
        "\n"
      ],
      "metadata": {
        "id": "QGEaONIxtSOZ"
      },
      "execution_count": 13,
      "outputs": []
    },
    {
      "cell_type": "markdown",
      "source": [
        "# Inputs"
      ],
      "metadata": {
        "id": "OeuUYMnNwnh4"
      }
    },
    {
      "cell_type": "code",
      "source": [
        "# Parameters\n",
        "number_of_examples = 4\n",
        "model_version = \"Gemini\"\n",
        "\n",
        "# Example prompts\n",
        "example_prompts = [\n",
        "    \"You are a career coach. Advise professionals on how they can expand their network by attending industry conferences.\",\n",
        "    \"You are a professional development mentor. Suggest ways to enhance skill sets with online courses.\",\n",
        "    \"You are a market analyst. Explain the importance of staying updated with the latest market trends and insights.\",\n",
        "    \"You are a business consultant. Provide strategies on how leveraging technology can boost business efficiency.\",\n",
        "    \"You are a motivational speaker. Describe how sharing success stories can inspire and motivate others.\"\n",
        "]\n",
        "\n",
        "\n",
        "\n",
        "prompts = create_prompts(number_of_examples, example_prompts)\n",
        "\n",
        "# Output file path\n",
        "output_file_path = 'tuning_data.jsonl'\n",
        "\n",
        "# Generate data for the JSONL file\n",
        "data_for_jsonl = generate_respones(model_version, prompts)\n",
        "\n",
        "# Generate the JSONL file\n",
        "generate_jsonl_data(data_for_jsonl, output_file_path)\n",
        "\n",
        "print(f\"JSONL file '{output_file_path}' generated successfully.\")"
      ],
      "metadata": {
        "colab": {
          "base_uri": "https://localhost:8080/"
        },
        "id": "6VRetz0NwnHy",
        "outputId": "73b1c9c0-8d09-4f89-e218-795e12f0d27b"
      },
      "execution_count": 15,
      "outputs": [
        {
          "output_type": "stream",
          "name": "stdout",
          "text": [
            "Generated 4 prompts.\n",
            "Generated 4 examples.\n",
            "JSONL file 'tuning_data.jsonl' generated successfully.\n"
          ]
        }
      ]
    }
  ]
}